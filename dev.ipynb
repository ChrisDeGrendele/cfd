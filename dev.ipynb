{
 "cells": [
  {
   "cell_type": "code",
   "execution_count": 1,
   "metadata": {},
   "outputs": [],
   "source": [
    "from onedim.inputs import Inputs\n",
    "from onedim.simulation import Simulation"
   ]
  },
  {
   "cell_type": "code",
   "execution_count": 2,
   "metadata": {},
   "outputs": [],
   "source": [
    "i = Inputs(\"tests/inputs.ini\")"
   ]
  },
  {
   "cell_type": "code",
   "execution_count": 3,
   "metadata": {},
   "outputs": [],
   "source": [
    "s = Simulation(i)"
   ]
  },
  {
   "cell_type": "code",
   "execution_count": 4,
   "metadata": {},
   "outputs": [
    {
     "name": "stdout",
     "output_type": "stream",
     "text": [
      "Timestep:  0   Current time:  0.0\n",
      "Timestep:  1   Current time:  0.004268455831962206\n"
     ]
    },
    {
     "name": "stderr",
     "output_type": "stream",
     "text": [
      "/Users/chris/Documents/github/cfd/onedim/euler.py:19: RuntimeWarning: invalid value encountered in divide\n",
      "  E = P / ((gamma - 1) * rho) + 0.5 * u**2\n",
      "/Users/chris/Documents/github/cfd/onedim/euler.py:83: RuntimeWarning: invalid value encountered in divide\n",
      "  e = P / ((gamma - 1) * rho)\n",
      "/Users/chris/Documents/github/cfd/onedim/simulation.py:58: RuntimeWarning: divide by zero encountered in divide\n",
      "  U_new = np.ones_like(self.grid.grid) / 0  # np.nans_like lol\n",
      "/Users/chris/Documents/github/cfd/onedim/euler.py:40: RuntimeWarning: invalid value encountered in divide\n",
      "  prim[UCOMP] = a_cons[MCOMP] / a_cons[RHOCOMP]\n"
     ]
    },
    {
     "name": "stdout",
     "output_type": "stream",
     "text": [
      "Timestep:  2   Current time:  0.007300291619901161\n",
      "Timestep:  3   Current time:  0.010128086377536611\n",
      "Timestep:  4   Current time:  0.012888239853702247\n",
      "Timestep:  5   Current time:  0.015610798782701794\n",
      "Timestep:  6   Current time:  0.01829078515529763\n",
      "Timestep:  7   Current time:  0.020904284647404354\n",
      "Timestep:  8   Current time:  0.02347299730526171\n",
      "Timestep:  9   Current time:  0.02601352644794537\n",
      "Timestep:  10   Current time:  0.02853816716422906\n",
      "Timestep:  11   Current time:  0.031054358142348658\n",
      "Timestep:  12   Current time:  0.03354779541226257\n",
      "Timestep:  13   Current time:  0.03602156861640171\n",
      "Timestep:  14   Current time:  0.03848065156322173\n",
      "Timestep:  15   Current time:  0.04092795746210026\n",
      "Timestep:  16   Current time:  0.04336574636799791\n",
      "Timestep:  17   Current time:  0.045796141717343954\n",
      "Timestep:  18   Current time:  0.048220736401928845\n",
      "Timestep:  19   Current time:  0.05063939256355356\n",
      "Timestep:  20   Current time:  0.053046627186507704\n",
      "Timestep:  21   Current time:  0.05544362459377541\n",
      "Timestep:  22   Current time:  0.05783135398033869\n",
      "Timestep:  23   Current time:  0.060210744490783924\n",
      "Timestep:  24   Current time:  0.06258291134677182\n",
      "Timestep:  25   Current time:  0.06494912528769342\n",
      "Timestep:  26   Current time:  0.06731060431305363\n",
      "Timestep:  27   Current time:  0.06966844814818623\n",
      "Timestep:  28   Current time:  0.0720236528290165\n",
      "Timestep:  29   Current time:  0.07437587567403489\n",
      "Timestep:  30   Current time:  0.07672289912549338\n",
      "Timestep:  31   Current time:  0.07906536669202162\n",
      "Timestep:  32   Current time:  0.08140380724155322\n",
      "Timestep:  33   Current time:  0.0837386832109775\n",
      "Timestep:  34   Current time:  0.08607045252396477\n",
      "Timestep:  35   Current time:  0.08839962393592059\n",
      "Timestep:  36   Current time:  0.09072677555965461\n",
      "Timestep:  37   Current time:  0.09305253427878829\n",
      "Timestep:  38   Current time:  0.09537754417176228\n",
      "Timestep:  39   Current time:  0.09770000275359852\n",
      "SUCCESS!\n"
     ]
    }
   ],
   "source": [
    "s.run()"
   ]
  },
  {
   "cell_type": "code",
   "execution_count": null,
   "metadata": {},
   "outputs": [],
   "source": []
  },
  {
   "cell_type": "code",
   "execution_count": null,
   "metadata": {},
   "outputs": [],
   "source": []
  },
  {
   "cell_type": "code",
   "execution_count": null,
   "metadata": {},
   "outputs": [],
   "source": []
  }
 ],
 "metadata": {
  "kernelspec": {
   "display_name": "Python 3",
   "language": "python",
   "name": "python3"
  },
  "language_info": {
   "codemirror_mode": {
    "name": "ipython",
    "version": 3
   },
   "file_extension": ".py",
   "mimetype": "text/x-python",
   "name": "python",
   "nbconvert_exporter": "python",
   "pygments_lexer": "ipython3",
   "version": "3.9.6"
  },
  "orig_nbformat": 4
 },
 "nbformat": 4,
 "nbformat_minor": 2
}
